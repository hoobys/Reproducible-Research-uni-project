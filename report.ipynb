{
 "cells": [
  {
   "cell_type": "markdown",
   "source": [
    "This notebook will be a recreation of the study `Li, H., Cao, Y., Li, S., Zhao, J., & Sun, Y. (2020). XGBoost model and its application to personal credit evaluation. IEEE Intelligent Systems, 35(3), 52-61.`. The study originally uses dataset from Lending Club, but this source is not available anymore. Though, there copies available on kaggle. The dataset can be found [here](https://www.kaggle.com/datasets/wordsforthewise/lending-club/data).\n",
    "\n",
    "Authors:\n",
    "- Adam Janczyszyn\n",
    "- Hubert Wojewoda\n",
    "- Jakub Wujec\n",
    "- Jakub Żmujdzin"
   ],
   "metadata": {
    "collapsed": false
   },
   "id": "c1c1a4eac2b1b2bc"
  },
  {
   "cell_type": "markdown",
   "source": [
    "### Data Loading"
   ],
   "metadata": {
    "collapsed": false
   },
   "id": "3e0b2e7c1aaaa155"
  },
  {
   "cell_type": "code",
   "outputs": [
    {
     "name": "stderr",
     "output_type": "stream",
     "text": [
      "C:\\Users\\jzmuj\\AppData\\Local\\Temp\\ipykernel_9388\\3524197630.py:2: DtypeWarning: Columns (129,130,131,134,135,136,139,145,146,147) have mixed types. Specify dtype option on import or set low_memory=False.\n",
      "  df = pd.read_csv('data/credit_card_2018.csv')\n"
     ]
    }
   ],
   "source": [
    "import pandas as pd\n",
    "df = pd.read_csv('data/credit_card_2018.csv')"
   ],
   "metadata": {
    "collapsed": false,
    "ExecuteTime": {
     "end_time": "2024-05-23T17:12:41.679574Z",
     "start_time": "2024-05-23T17:12:40.236955Z"
    }
   },
   "id": "14645d65e2238949",
   "execution_count": 1
  },
  {
   "cell_type": "markdown",
   "source": [
    "Let us preprocess the data according to the study's methodology.\n",
    "We start off by mapping the target variable to 0 and 1. Then, we run sampling for each month - we take 4 times as many good clients as bad clients."
   ],
   "metadata": {
    "collapsed": false
   },
   "id": "f242d8ae919438be"
  },
  {
   "cell_type": "code",
   "outputs": [
    {
     "name": "stderr",
     "output_type": "stream",
     "text": [
      "C:\\Users\\jzmuj\\Desktop\\uczelnia\\RR_2\\Reproducible-Research-uni-project\\rr_project\\data_wrangling.py:22: UserWarning: Could not infer format, so each element will be parsed individually, falling back to `dateutil`. To ensure parsing is consistent and as-expected, please specify a format.\n",
      "  df[\"issue_d\"] = pd.to_datetime(df.issue_d)\n"
     ]
    },
    {
     "name": "stdout",
     "output_type": "stream",
     "text": [
      "Source data shape: (127702, 153). \n",
      "Source data target distribution:\n",
      "target\n",
      "0    124626\n",
      "1      3076\n",
      "Name: count, dtype: int64\n",
      "Bads for month 1: 420. Goods for month 1: 1680.\n",
      "Bads for month 2: 323. Goods for month 2: 1292.\n",
      "Bads for month 3: 390. Goods for month 3: 1560.\n",
      "Bads for month 4: 394. Goods for month 4: 1576.\n",
      "Bads for month 5: 361. Goods for month 5: 1444.\n",
      "Bads for month 6: 310. Goods for month 6: 1240.\n",
      "Bads for month 7: 271. Goods for month 7: 1084.\n",
      "Bads for month 8: 213. Goods for month 8: 852.\n",
      "Bads for month 9: 136. Goods for month 9: 544.\n",
      "Bads for month 10: 133. Goods for month 10: 532.\n",
      "Bads for month 11: 80. Goods for month 11: 320.\n",
      "Bads for month 12: 45. Goods for month 12: 180.\n",
      "Undersampled data shape: (15380, 153). \n",
      "Undersampled data target distribution:\n",
      "target\n",
      "0    12304\n",
      "1     3076\n",
      "Name: count, dtype: int64\n"
     ]
    }
   ],
   "source": [
    "from rr_project.data_wrangling import preprocess_data\n",
    "preprocessed_df = preprocess_data(df)"
   ],
   "metadata": {
    "collapsed": false,
    "ExecuteTime": {
     "end_time": "2024-05-23T17:12:42.351930Z",
     "start_time": "2024-05-23T17:12:41.680587Z"
    }
   },
   "id": "edf35fd625c87cc9",
   "execution_count": 2
  },
  {
   "cell_type": "markdown",
   "source": [],
   "metadata": {
    "collapsed": false
   },
   "id": "ac491547e8d5727d"
  },
  {
   "cell_type": "markdown",
   "source": [
    "At this first step, we already have discrepancies to the original study:\n",
    "- though the number of rows is the same, there are 10 additional columns (153 vs 143). They are mainly related to metadata (e.g. url of download) and should not be used in the analysis.\n",
    "- There is a difference in the number of \"bad\" clients. The authors used the following mapping: [\"Fully Paid\", \"Current\", \"In Grace Period\"] for good clients, all other for bad clients. Though, the authors obtain over 5k defaults, while we have only a bit over 3k. Due to that, the overall sampled row number is decrased from ~25k to ~15k."
   ],
   "metadata": {
    "collapsed": false
   },
   "id": "83affb90b1342c6a"
  },
  {
   "cell_type": "markdown",
   "source": [
    "Let us run feature selection for preprocessing. The authors have listed over 30 columns to drop by \"manual selection\". Furthermore, they get rid of all features with NaN proportion over 0.5. We will follow this approach."
   ],
   "metadata": {
    "collapsed": false
   },
   "id": "febefaf24cb285a2"
  },
  {
   "cell_type": "code",
   "outputs": [
    {
     "name": "stdout",
     "output_type": "stream",
     "text": [
      "Features with over 50% missing values = 37. Index(['member_id', 'desc', 'orig_projected_additional_accrued_interest',\n",
      "       'hardship_type', 'hardship_last_payment_amount',\n",
      "       'hardship_payoff_balance_amount', 'hardship_loan_status',\n",
      "       'hardship_dpd', 'hardship_length', 'hardship_amount', 'deferral_term',\n",
      "       'hardship_status', 'hardship_reason', 'settlement_percentage',\n",
      "       'settlement_amount', 'settlement_status', 'settlement_term',\n",
      "       'sec_app_mths_since_last_major_derog', 'verification_status_joint',\n",
      "       'sec_app_revol_util', 'sec_app_collections_12_mths_ex_med',\n",
      "       'sec_app_open_acc', 'annual_inc_joint', 'dti_joint',\n",
      "       'sec_app_chargeoff_within_12_mths', 'sec_app_num_rev_accts',\n",
      "       'sec_app_open_act_il', 'sec_app_fico_range_high', 'sec_app_mort_acc',\n",
      "       'sec_app_inq_last_6mths', 'sec_app_fico_range_low', 'revol_bal_joint',\n",
      "       'mths_since_last_record', 'mths_since_recent_bc_dlq',\n",
      "       'mths_since_last_major_derog', 'mths_since_recent_revol_delinq',\n",
      "       'mths_since_last_delinq'],\n",
      "      dtype='object')\n",
      "Feature selected data shape:  (15380, 84)\n"
     ]
    }
   ],
   "source": [
    "from rr_project.data_wrangling import preprocessing_feature_selection\n",
    "feature_selected_df = preprocessing_feature_selection(preprocessed_df)\n",
    "print(\"Feature selected data shape: \", feature_selected_df.shape)"
   ],
   "metadata": {
    "collapsed": false,
    "ExecuteTime": {
     "end_time": "2024-05-23T17:12:42.380534Z",
     "start_time": "2024-05-23T17:12:42.352934Z"
    }
   },
   "id": "db610dd193f011d2",
   "execution_count": 3
  },
  {
   "cell_type": "markdown",
   "source": [
    "In the next steps, the authors mention label encoding. There was no mention of a particular method, only `\"The text data has been first converted to numeric data that can be recognized by the computer\"`. We have decided to go with `LabelEncoder()` from `sklearn.preprocessing`, which encodes labels to numbers. We will additionally display the encodings. Null values for those columns will be filled with 0."
   ],
   "metadata": {
    "collapsed": false
   },
   "id": "9d0afd82e696f32f"
  },
  {
   "cell_type": "code",
   "outputs": [
    {
     "name": "stdout",
     "output_type": "stream",
     "text": [
      "Encoding for column 'term': {' 36 months': 0, ' 60 months': 1}\n",
      "Encoding for column 'grade': {'A': 0, 'B': 1, 'C': 2, 'D': 3, 'E': 4, 'F': 5, 'G': 6}\n",
      "Encoding for column 'emp_length': {'0': 0, '1 year': 1, '10+ years': 2, '2 years': 3, '3 years': 4, '4 years': 5, '5 years': 6, '6 years': 7, '7 years': 8, '8 years': 9, '9 years': 10, '< 1 year': 11}\n",
      "Encoding for column 'home_ownership': {'ANY': 0, 'MORTGAGE': 1, 'OWN': 2, 'RENT': 3}\n",
      "Encoding for column 'verification_status': {'Not Verified': 0, 'Source Verified': 1, 'Verified': 2}\n",
      "Encoding for column 'pymnt_plan': {'n': 0, 'y': 1}\n",
      "Encoding for column 'title': {'Credit card refinancing': 0}\n",
      "Encoding for column 'application_type': {'Individual': 0, 'Joint App': 1}\n",
      "Encoding for column 'hardship_flag': {'N': 0, 'Y': 1}\n",
      "Encoding for column 'disbursement_method': {'Cash': 0, 'DirectPay': 1}\n",
      "Encoding for column 'debt_settlement_flag': {'N': 0, 'Y': 1}\n",
      "Label encoded data shape:  (15380, 84)\n"
     ]
    }
   ],
   "source": [
    "from rr_project.data_wrangling import label_encode_all\n",
    "label_encoded_df = label_encode_all(feature_selected_df)\n",
    "print(\"Label encoded data shape: \", label_encoded_df.shape)"
   ],
   "metadata": {
    "collapsed": false,
    "ExecuteTime": {
     "end_time": "2024-05-23T17:12:42.412635Z",
     "start_time": "2024-05-23T17:12:42.380534Z"
    }
   },
   "id": "1d05fdba81cec507",
   "execution_count": 4
  },
  {
   "cell_type": "markdown",
   "source": [
    "The next step is to fill null values with the mean of the column."
   ],
   "metadata": {
    "collapsed": false
   },
   "id": "2ed379e47989f884"
  },
  {
   "cell_type": "code",
   "outputs": [
    {
     "name": "stdout",
     "output_type": "stream",
     "text": [
      "Filled nulls data shape:  (15380, 84)\n"
     ]
    }
   ],
   "source": [
    "from rr_project.data_wrangling import fill_nulls_with_mean\n",
    "wrangled_df = fill_nulls_with_mean(label_encoded_df)\n",
    "print(\"Filled nulls data shape: \", wrangled_df.shape)"
   ],
   "metadata": {
    "collapsed": false,
    "ExecuteTime": {
     "end_time": "2024-05-23T17:12:42.439856Z",
     "start_time": "2024-05-23T17:12:42.413641Z"
    }
   },
   "id": "3b8c870103adee71",
   "execution_count": 5
  },
  {
   "cell_type": "markdown",
   "source": [
    "Finally, we will perform selection by Information Value, as per the study. The idea behind IV is to bin a continuous variable and calculate the WoE (Weight of Evidence) for each bin. The IV is then calculated as a sum of the differences between the WoE and the natural logarithm of the proportion of good clients to bad clients. The IV is a measure of the predictive power of a variable. The authors have selected variables with IV over 0.02. The issue is that they have not provided us with the information about binning. We have decided to use decile binning for variables which have more than 10 distinct values. Otherwise, each distinct value will be treated as a separate bin."
   ],
   "metadata": {
    "collapsed": false
   },
   "id": "802637cda1699202"
  },
  {
   "cell_type": "code",
   "outputs": [
    {
     "name": "stderr",
     "output_type": "stream",
     "text": [
      "C:\\Users\\jzmuj\\Desktop\\uczelnia\\RR_2\\Reproducible-Research-uni-project\\rr_project\\data_wrangling.py:206: FutureWarning: The default of observed=False is deprecated and will be changed to True in a future version of pandas. Pass observed=False to retain current behavior or observed=True to adopt the future default and silence this warning.\n",
      "  d = d0.groupby(\"x\", as_index=False).agg({\"y\": [\"count\", \"sum\"]})\n",
      "C:\\Users\\jzmuj\\Desktop\\uczelnia\\RR_2\\Reproducible-Research-uni-project\\rr_project\\data_wrangling.py:206: FutureWarning: The default of observed=False is deprecated and will be changed to True in a future version of pandas. Pass observed=False to retain current behavior or observed=True to adopt the future default and silence this warning.\n",
      "  d = d0.groupby(\"x\", as_index=False).agg({\"y\": [\"count\", \"sum\"]})\n",
      "C:\\Users\\jzmuj\\Desktop\\uczelnia\\RR_2\\Reproducible-Research-uni-project\\rr_project\\data_wrangling.py:206: FutureWarning: The default of observed=False is deprecated and will be changed to True in a future version of pandas. Pass observed=False to retain current behavior or observed=True to adopt the future default and silence this warning.\n",
      "  d = d0.groupby(\"x\", as_index=False).agg({\"y\": [\"count\", \"sum\"]})\n",
      "C:\\Users\\jzmuj\\Desktop\\uczelnia\\RR_2\\Reproducible-Research-uni-project\\rr_project\\data_wrangling.py:206: FutureWarning: The default of observed=False is deprecated and will be changed to True in a future version of pandas. Pass observed=False to retain current behavior or observed=True to adopt the future default and silence this warning.\n",
      "  d = d0.groupby(\"x\", as_index=False).agg({\"y\": [\"count\", \"sum\"]})\n",
      "C:\\Users\\jzmuj\\Desktop\\uczelnia\\RR_2\\Reproducible-Research-uni-project\\rr_project\\data_wrangling.py:206: FutureWarning: The default of observed=False is deprecated and will be changed to True in a future version of pandas. Pass observed=False to retain current behavior or observed=True to adopt the future default and silence this warning.\n",
      "  d = d0.groupby(\"x\", as_index=False).agg({\"y\": [\"count\", \"sum\"]})\n",
      "C:\\Users\\jzmuj\\Desktop\\uczelnia\\RR_2\\Reproducible-Research-uni-project\\rr_project\\data_wrangling.py:206: FutureWarning: The default of observed=False is deprecated and will be changed to True in a future version of pandas. Pass observed=False to retain current behavior or observed=True to adopt the future default and silence this warning.\n",
      "  d = d0.groupby(\"x\", as_index=False).agg({\"y\": [\"count\", \"sum\"]})\n",
      "C:\\Users\\jzmuj\\Desktop\\uczelnia\\RR_2\\Reproducible-Research-uni-project\\rr_project\\data_wrangling.py:206: FutureWarning: The default of observed=False is deprecated and will be changed to True in a future version of pandas. Pass observed=False to retain current behavior or observed=True to adopt the future default and silence this warning.\n",
      "  d = d0.groupby(\"x\", as_index=False).agg({\"y\": [\"count\", \"sum\"]})\n",
      "C:\\Users\\jzmuj\\Desktop\\uczelnia\\RR_2\\Reproducible-Research-uni-project\\rr_project\\data_wrangling.py:206: FutureWarning: The default of observed=False is deprecated and will be changed to True in a future version of pandas. Pass observed=False to retain current behavior or observed=True to adopt the future default and silence this warning.\n",
      "  d = d0.groupby(\"x\", as_index=False).agg({\"y\": [\"count\", \"sum\"]})\n",
      "C:\\Users\\jzmuj\\Desktop\\uczelnia\\RR_2\\Reproducible-Research-uni-project\\rr_project\\data_wrangling.py:206: FutureWarning: The default of observed=False is deprecated and will be changed to True in a future version of pandas. Pass observed=False to retain current behavior or observed=True to adopt the future default and silence this warning.\n",
      "  d = d0.groupby(\"x\", as_index=False).agg({\"y\": [\"count\", \"sum\"]})\n",
      "C:\\Users\\jzmuj\\Desktop\\uczelnia\\RR_2\\Reproducible-Research-uni-project\\rr_project\\data_wrangling.py:206: FutureWarning: The default of observed=False is deprecated and will be changed to True in a future version of pandas. Pass observed=False to retain current behavior or observed=True to adopt the future default and silence this warning.\n",
      "  d = d0.groupby(\"x\", as_index=False).agg({\"y\": [\"count\", \"sum\"]})\n",
      "C:\\Users\\jzmuj\\Desktop\\uczelnia\\RR_2\\Reproducible-Research-uni-project\\rr_project\\data_wrangling.py:206: FutureWarning: The default of observed=False is deprecated and will be changed to True in a future version of pandas. Pass observed=False to retain current behavior or observed=True to adopt the future default and silence this warning.\n",
      "  d = d0.groupby(\"x\", as_index=False).agg({\"y\": [\"count\", \"sum\"]})\n",
      "C:\\Users\\jzmuj\\Desktop\\uczelnia\\RR_2\\Reproducible-Research-uni-project\\rr_project\\data_wrangling.py:206: FutureWarning: The default of observed=False is deprecated and will be changed to True in a future version of pandas. Pass observed=False to retain current behavior or observed=True to adopt the future default and silence this warning.\n",
      "  d = d0.groupby(\"x\", as_index=False).agg({\"y\": [\"count\", \"sum\"]})\n",
      "C:\\Users\\jzmuj\\Desktop\\uczelnia\\RR_2\\Reproducible-Research-uni-project\\rr_project\\data_wrangling.py:206: FutureWarning: The default of observed=False is deprecated and will be changed to True in a future version of pandas. Pass observed=False to retain current behavior or observed=True to adopt the future default and silence this warning.\n",
      "  d = d0.groupby(\"x\", as_index=False).agg({\"y\": [\"count\", \"sum\"]})\n",
      "C:\\Users\\jzmuj\\Desktop\\uczelnia\\RR_2\\Reproducible-Research-uni-project\\rr_project\\data_wrangling.py:206: FutureWarning: The default of observed=False is deprecated and will be changed to True in a future version of pandas. Pass observed=False to retain current behavior or observed=True to adopt the future default and silence this warning.\n",
      "  d = d0.groupby(\"x\", as_index=False).agg({\"y\": [\"count\", \"sum\"]})\n",
      "C:\\Users\\jzmuj\\Desktop\\uczelnia\\RR_2\\Reproducible-Research-uni-project\\rr_project\\data_wrangling.py:206: FutureWarning: The default of observed=False is deprecated and will be changed to True in a future version of pandas. Pass observed=False to retain current behavior or observed=True to adopt the future default and silence this warning.\n",
      "  d = d0.groupby(\"x\", as_index=False).agg({\"y\": [\"count\", \"sum\"]})\n",
      "C:\\Users\\jzmuj\\Desktop\\uczelnia\\RR_2\\Reproducible-Research-uni-project\\rr_project\\data_wrangling.py:206: FutureWarning: The default of observed=False is deprecated and will be changed to True in a future version of pandas. Pass observed=False to retain current behavior or observed=True to adopt the future default and silence this warning.\n",
      "  d = d0.groupby(\"x\", as_index=False).agg({\"y\": [\"count\", \"sum\"]})\n",
      "C:\\Users\\jzmuj\\Desktop\\uczelnia\\RR_2\\Reproducible-Research-uni-project\\rr_project\\data_wrangling.py:206: FutureWarning: The default of observed=False is deprecated and will be changed to True in a future version of pandas. Pass observed=False to retain current behavior or observed=True to adopt the future default and silence this warning.\n",
      "  d = d0.groupby(\"x\", as_index=False).agg({\"y\": [\"count\", \"sum\"]})\n",
      "C:\\Users\\jzmuj\\Desktop\\uczelnia\\RR_2\\Reproducible-Research-uni-project\\rr_project\\data_wrangling.py:206: FutureWarning: The default of observed=False is deprecated and will be changed to True in a future version of pandas. Pass observed=False to retain current behavior or observed=True to adopt the future default and silence this warning.\n",
      "  d = d0.groupby(\"x\", as_index=False).agg({\"y\": [\"count\", \"sum\"]})\n",
      "C:\\Users\\jzmuj\\Desktop\\uczelnia\\RR_2\\Reproducible-Research-uni-project\\rr_project\\data_wrangling.py:206: FutureWarning: The default of observed=False is deprecated and will be changed to True in a future version of pandas. Pass observed=False to retain current behavior or observed=True to adopt the future default and silence this warning.\n",
      "  d = d0.groupby(\"x\", as_index=False).agg({\"y\": [\"count\", \"sum\"]})\n",
      "C:\\Users\\jzmuj\\Desktop\\uczelnia\\RR_2\\Reproducible-Research-uni-project\\rr_project\\data_wrangling.py:206: FutureWarning: The default of observed=False is deprecated and will be changed to True in a future version of pandas. Pass observed=False to retain current behavior or observed=True to adopt the future default and silence this warning.\n",
      "  d = d0.groupby(\"x\", as_index=False).agg({\"y\": [\"count\", \"sum\"]})\n",
      "C:\\Users\\jzmuj\\Desktop\\uczelnia\\RR_2\\Reproducible-Research-uni-project\\rr_project\\data_wrangling.py:206: FutureWarning: The default of observed=False is deprecated and will be changed to True in a future version of pandas. Pass observed=False to retain current behavior or observed=True to adopt the future default and silence this warning.\n",
      "  d = d0.groupby(\"x\", as_index=False).agg({\"y\": [\"count\", \"sum\"]})\n",
      "C:\\Users\\jzmuj\\Desktop\\uczelnia\\RR_2\\Reproducible-Research-uni-project\\rr_project\\data_wrangling.py:206: FutureWarning: The default of observed=False is deprecated and will be changed to True in a future version of pandas. Pass observed=False to retain current behavior or observed=True to adopt the future default and silence this warning.\n",
      "  d = d0.groupby(\"x\", as_index=False).agg({\"y\": [\"count\", \"sum\"]})\n",
      "C:\\Users\\jzmuj\\Desktop\\uczelnia\\RR_2\\Reproducible-Research-uni-project\\rr_project\\data_wrangling.py:206: FutureWarning: The default of observed=False is deprecated and will be changed to True in a future version of pandas. Pass observed=False to retain current behavior or observed=True to adopt the future default and silence this warning.\n",
      "  d = d0.groupby(\"x\", as_index=False).agg({\"y\": [\"count\", \"sum\"]})\n",
      "C:\\Users\\jzmuj\\Desktop\\uczelnia\\RR_2\\Reproducible-Research-uni-project\\rr_project\\data_wrangling.py:206: FutureWarning: The default of observed=False is deprecated and will be changed to True in a future version of pandas. Pass observed=False to retain current behavior or observed=True to adopt the future default and silence this warning.\n",
      "  d = d0.groupby(\"x\", as_index=False).agg({\"y\": [\"count\", \"sum\"]})\n",
      "C:\\Users\\jzmuj\\Desktop\\uczelnia\\RR_2\\Reproducible-Research-uni-project\\rr_project\\data_wrangling.py:206: FutureWarning: The default of observed=False is deprecated and will be changed to True in a future version of pandas. Pass observed=False to retain current behavior or observed=True to adopt the future default and silence this warning.\n",
      "  d = d0.groupby(\"x\", as_index=False).agg({\"y\": [\"count\", \"sum\"]})\n",
      "C:\\Users\\jzmuj\\Desktop\\uczelnia\\RR_2\\Reproducible-Research-uni-project\\rr_project\\data_wrangling.py:206: FutureWarning: The default of observed=False is deprecated and will be changed to True in a future version of pandas. Pass observed=False to retain current behavior or observed=True to adopt the future default and silence this warning.\n",
      "  d = d0.groupby(\"x\", as_index=False).agg({\"y\": [\"count\", \"sum\"]})\n",
      "C:\\Users\\jzmuj\\Desktop\\uczelnia\\RR_2\\Reproducible-Research-uni-project\\rr_project\\data_wrangling.py:206: FutureWarning: The default of observed=False is deprecated and will be changed to True in a future version of pandas. Pass observed=False to retain current behavior or observed=True to adopt the future default and silence this warning.\n",
      "  d = d0.groupby(\"x\", as_index=False).agg({\"y\": [\"count\", \"sum\"]})\n",
      "C:\\Users\\jzmuj\\Desktop\\uczelnia\\RR_2\\Reproducible-Research-uni-project\\rr_project\\data_wrangling.py:206: FutureWarning: The default of observed=False is deprecated and will be changed to True in a future version of pandas. Pass observed=False to retain current behavior or observed=True to adopt the future default and silence this warning.\n",
      "  d = d0.groupby(\"x\", as_index=False).agg({\"y\": [\"count\", \"sum\"]})\n",
      "C:\\Users\\jzmuj\\Desktop\\uczelnia\\RR_2\\Reproducible-Research-uni-project\\rr_project\\data_wrangling.py:206: FutureWarning: The default of observed=False is deprecated and will be changed to True in a future version of pandas. Pass observed=False to retain current behavior or observed=True to adopt the future default and silence this warning.\n",
      "  d = d0.groupby(\"x\", as_index=False).agg({\"y\": [\"count\", \"sum\"]})\n",
      "C:\\Users\\jzmuj\\Desktop\\uczelnia\\RR_2\\Reproducible-Research-uni-project\\rr_project\\data_wrangling.py:206: FutureWarning: The default of observed=False is deprecated and will be changed to True in a future version of pandas. Pass observed=False to retain current behavior or observed=True to adopt the future default and silence this warning.\n",
      "  d = d0.groupby(\"x\", as_index=False).agg({\"y\": [\"count\", \"sum\"]})\n",
      "C:\\Users\\jzmuj\\Desktop\\uczelnia\\RR_2\\Reproducible-Research-uni-project\\rr_project\\data_wrangling.py:206: FutureWarning: The default of observed=False is deprecated and will be changed to True in a future version of pandas. Pass observed=False to retain current behavior or observed=True to adopt the future default and silence this warning.\n",
      "  d = d0.groupby(\"x\", as_index=False).agg({\"y\": [\"count\", \"sum\"]})\n",
      "C:\\Users\\jzmuj\\Desktop\\uczelnia\\RR_2\\Reproducible-Research-uni-project\\rr_project\\data_wrangling.py:206: FutureWarning: The default of observed=False is deprecated and will be changed to True in a future version of pandas. Pass observed=False to retain current behavior or observed=True to adopt the future default and silence this warning.\n",
      "  d = d0.groupby(\"x\", as_index=False).agg({\"y\": [\"count\", \"sum\"]})\n",
      "C:\\Users\\jzmuj\\Desktop\\uczelnia\\RR_2\\Reproducible-Research-uni-project\\rr_project\\data_wrangling.py:206: FutureWarning: The default of observed=False is deprecated and will be changed to True in a future version of pandas. Pass observed=False to retain current behavior or observed=True to adopt the future default and silence this warning.\n",
      "  d = d0.groupby(\"x\", as_index=False).agg({\"y\": [\"count\", \"sum\"]})\n",
      "C:\\Users\\jzmuj\\Desktop\\uczelnia\\RR_2\\Reproducible-Research-uni-project\\rr_project\\data_wrangling.py:206: FutureWarning: The default of observed=False is deprecated and will be changed to True in a future version of pandas. Pass observed=False to retain current behavior or observed=True to adopt the future default and silence this warning.\n",
      "  d = d0.groupby(\"x\", as_index=False).agg({\"y\": [\"count\", \"sum\"]})\n",
      "C:\\Users\\jzmuj\\Desktop\\uczelnia\\RR_2\\Reproducible-Research-uni-project\\rr_project\\data_wrangling.py:206: FutureWarning: The default of observed=False is deprecated and will be changed to True in a future version of pandas. Pass observed=False to retain current behavior or observed=True to adopt the future default and silence this warning.\n",
      "  d = d0.groupby(\"x\", as_index=False).agg({\"y\": [\"count\", \"sum\"]})\n",
      "C:\\Users\\jzmuj\\Desktop\\uczelnia\\RR_2\\Reproducible-Research-uni-project\\rr_project\\data_wrangling.py:206: FutureWarning: The default of observed=False is deprecated and will be changed to True in a future version of pandas. Pass observed=False to retain current behavior or observed=True to adopt the future default and silence this warning.\n",
      "  d = d0.groupby(\"x\", as_index=False).agg({\"y\": [\"count\", \"sum\"]})\n",
      "C:\\Users\\jzmuj\\Desktop\\uczelnia\\RR_2\\Reproducible-Research-uni-project\\rr_project\\data_wrangling.py:206: FutureWarning: The default of observed=False is deprecated and will be changed to True in a future version of pandas. Pass observed=False to retain current behavior or observed=True to adopt the future default and silence this warning.\n",
      "  d = d0.groupby(\"x\", as_index=False).agg({\"y\": [\"count\", \"sum\"]})\n",
      "C:\\Users\\jzmuj\\Desktop\\uczelnia\\RR_2\\Reproducible-Research-uni-project\\rr_project\\data_wrangling.py:206: FutureWarning: The default of observed=False is deprecated and will be changed to True in a future version of pandas. Pass observed=False to retain current behavior or observed=True to adopt the future default and silence this warning.\n",
      "  d = d0.groupby(\"x\", as_index=False).agg({\"y\": [\"count\", \"sum\"]})\n",
      "C:\\Users\\jzmuj\\Desktop\\uczelnia\\RR_2\\Reproducible-Research-uni-project\\rr_project\\data_wrangling.py:206: FutureWarning: The default of observed=False is deprecated and will be changed to True in a future version of pandas. Pass observed=False to retain current behavior or observed=True to adopt the future default and silence this warning.\n",
      "  d = d0.groupby(\"x\", as_index=False).agg({\"y\": [\"count\", \"sum\"]})\n",
      "C:\\Users\\jzmuj\\Desktop\\uczelnia\\RR_2\\Reproducible-Research-uni-project\\rr_project\\data_wrangling.py:206: FutureWarning: The default of observed=False is deprecated and will be changed to True in a future version of pandas. Pass observed=False to retain current behavior or observed=True to adopt the future default and silence this warning.\n",
      "  d = d0.groupby(\"x\", as_index=False).agg({\"y\": [\"count\", \"sum\"]})\n",
      "C:\\Users\\jzmuj\\Desktop\\uczelnia\\RR_2\\Reproducible-Research-uni-project\\rr_project\\data_wrangling.py:206: FutureWarning: The default of observed=False is deprecated and will be changed to True in a future version of pandas. Pass observed=False to retain current behavior or observed=True to adopt the future default and silence this warning.\n",
      "  d = d0.groupby(\"x\", as_index=False).agg({\"y\": [\"count\", \"sum\"]})\n",
      "C:\\Users\\jzmuj\\Desktop\\uczelnia\\RR_2\\Reproducible-Research-uni-project\\rr_project\\data_wrangling.py:206: FutureWarning: The default of observed=False is deprecated and will be changed to True in a future version of pandas. Pass observed=False to retain current behavior or observed=True to adopt the future default and silence this warning.\n",
      "  d = d0.groupby(\"x\", as_index=False).agg({\"y\": [\"count\", \"sum\"]})\n",
      "C:\\Users\\jzmuj\\Desktop\\uczelnia\\RR_2\\Reproducible-Research-uni-project\\rr_project\\data_wrangling.py:206: FutureWarning: The default of observed=False is deprecated and will be changed to True in a future version of pandas. Pass observed=False to retain current behavior or observed=True to adopt the future default and silence this warning.\n",
      "  d = d0.groupby(\"x\", as_index=False).agg({\"y\": [\"count\", \"sum\"]})\n",
      "C:\\Users\\jzmuj\\Desktop\\uczelnia\\RR_2\\Reproducible-Research-uni-project\\rr_project\\data_wrangling.py:206: FutureWarning: The default of observed=False is deprecated and will be changed to True in a future version of pandas. Pass observed=False to retain current behavior or observed=True to adopt the future default and silence this warning.\n",
      "  d = d0.groupby(\"x\", as_index=False).agg({\"y\": [\"count\", \"sum\"]})\n",
      "C:\\Users\\jzmuj\\Desktop\\uczelnia\\RR_2\\Reproducible-Research-uni-project\\rr_project\\data_wrangling.py:206: FutureWarning: The default of observed=False is deprecated and will be changed to True in a future version of pandas. Pass observed=False to retain current behavior or observed=True to adopt the future default and silence this warning.\n",
      "  d = d0.groupby(\"x\", as_index=False).agg({\"y\": [\"count\", \"sum\"]})\n",
      "C:\\Users\\jzmuj\\Desktop\\uczelnia\\RR_2\\Reproducible-Research-uni-project\\rr_project\\data_wrangling.py:206: FutureWarning: The default of observed=False is deprecated and will be changed to True in a future version of pandas. Pass observed=False to retain current behavior or observed=True to adopt the future default and silence this warning.\n",
      "  d = d0.groupby(\"x\", as_index=False).agg({\"y\": [\"count\", \"sum\"]})\n",
      "C:\\Users\\jzmuj\\Desktop\\uczelnia\\RR_2\\Reproducible-Research-uni-project\\rr_project\\data_wrangling.py:206: FutureWarning: The default of observed=False is deprecated and will be changed to True in a future version of pandas. Pass observed=False to retain current behavior or observed=True to adopt the future default and silence this warning.\n",
      "  d = d0.groupby(\"x\", as_index=False).agg({\"y\": [\"count\", \"sum\"]})\n",
      "C:\\Users\\jzmuj\\Desktop\\uczelnia\\RR_2\\Reproducible-Research-uni-project\\rr_project\\data_wrangling.py:206: FutureWarning: The default of observed=False is deprecated and will be changed to True in a future version of pandas. Pass observed=False to retain current behavior or observed=True to adopt the future default and silence this warning.\n",
      "  d = d0.groupby(\"x\", as_index=False).agg({\"y\": [\"count\", \"sum\"]})\n",
      "C:\\Users\\jzmuj\\Desktop\\uczelnia\\RR_2\\Reproducible-Research-uni-project\\rr_project\\data_wrangling.py:206: FutureWarning: The default of observed=False is deprecated and will be changed to True in a future version of pandas. Pass observed=False to retain current behavior or observed=True to adopt the future default and silence this warning.\n",
      "  d = d0.groupby(\"x\", as_index=False).agg({\"y\": [\"count\", \"sum\"]})\n",
      "C:\\Users\\jzmuj\\Desktop\\uczelnia\\RR_2\\Reproducible-Research-uni-project\\rr_project\\data_wrangling.py:206: FutureWarning: The default of observed=False is deprecated and will be changed to True in a future version of pandas. Pass observed=False to retain current behavior or observed=True to adopt the future default and silence this warning.\n",
      "  d = d0.groupby(\"x\", as_index=False).agg({\"y\": [\"count\", \"sum\"]})\n",
      "C:\\Users\\jzmuj\\Desktop\\uczelnia\\RR_2\\Reproducible-Research-uni-project\\rr_project\\data_wrangling.py:206: FutureWarning: The default of observed=False is deprecated and will be changed to True in a future version of pandas. Pass observed=False to retain current behavior or observed=True to adopt the future default and silence this warning.\n",
      "  d = d0.groupby(\"x\", as_index=False).agg({\"y\": [\"count\", \"sum\"]})\n",
      "C:\\Users\\jzmuj\\Desktop\\uczelnia\\RR_2\\Reproducible-Research-uni-project\\rr_project\\data_wrangling.py:206: FutureWarning: The default of observed=False is deprecated and will be changed to True in a future version of pandas. Pass observed=False to retain current behavior or observed=True to adopt the future default and silence this warning.\n",
      "  d = d0.groupby(\"x\", as_index=False).agg({\"y\": [\"count\", \"sum\"]})\n",
      "C:\\Users\\jzmuj\\Desktop\\uczelnia\\RR_2\\Reproducible-Research-uni-project\\rr_project\\data_wrangling.py:206: FutureWarning: The default of observed=False is deprecated and will be changed to True in a future version of pandas. Pass observed=False to retain current behavior or observed=True to adopt the future default and silence this warning.\n",
      "  d = d0.groupby(\"x\", as_index=False).agg({\"y\": [\"count\", \"sum\"]})\n",
      "C:\\Users\\jzmuj\\Desktop\\uczelnia\\RR_2\\Reproducible-Research-uni-project\\rr_project\\data_wrangling.py:206: FutureWarning: The default of observed=False is deprecated and will be changed to True in a future version of pandas. Pass observed=False to retain current behavior or observed=True to adopt the future default and silence this warning.\n",
      "  d = d0.groupby(\"x\", as_index=False).agg({\"y\": [\"count\", \"sum\"]})\n",
      "C:\\Users\\jzmuj\\Desktop\\uczelnia\\RR_2\\Reproducible-Research-uni-project\\rr_project\\data_wrangling.py:206: FutureWarning: The default of observed=False is deprecated and will be changed to True in a future version of pandas. Pass observed=False to retain current behavior or observed=True to adopt the future default and silence this warning.\n",
      "  d = d0.groupby(\"x\", as_index=False).agg({\"y\": [\"count\", \"sum\"]})\n"
     ]
    },
    {
     "name": "stdout",
     "output_type": "stream",
     "text": [
      "                Variable        IV\n",
      "0               int_rate  0.533063\n",
      "0                  grade  0.492798\n",
      "0   debt_settlement_flag  0.143604\n",
      "0         fico_range_low  0.118618\n",
      "0        fico_range_high  0.118618\n",
      "..                   ...       ...\n",
      "0     num_tl_90g_dpd_24m  0.000000\n",
      "0                  title  0.000000\n",
      "0       num_tl_120dpd_2m  0.000000\n",
      "0            policy_code  0.000000\n",
      "0                  month  0.000000\n",
      "\n",
      "[83 rows x 2 columns]\n",
      "Variables with IV lower than threshold:  ['loan_amnt', 'funded_amnt', 'funded_amnt_inv', 'annual_inc', 'title', 'dti', 'delinq_2yrs', 'open_acc', 'pub_rec', 'revol_bal', 'revol_util', 'total_acc', 'collections_12_mths_ex_med', 'policy_code', 'application_type', 'acc_now_delinq', 'tot_coll_amt', 'open_act_il', 'total_bal_il', 'all_util', 'total_cu_tl', 'bc_util', 'chargeoff_within_12_mths', 'delinq_amnt', 'mort_acc', 'num_accts_ever_120_pd', 'num_actv_bc_tl', 'num_actv_rev_tl', 'num_bc_sats', 'num_bc_tl', 'num_il_tl', 'num_op_rev_tl', 'num_rev_accts', 'num_rev_tl_bal_gt_0', 'num_sats', 'num_tl_120dpd_2m', 'num_tl_30dpd', 'num_tl_90g_dpd_24m', 'pct_tl_nvr_dlq', 'percent_bc_gt_75', 'pub_rec_bankruptcies', 'tax_liens', 'total_bal_ex_mort', 'total_il_high_credit_limit', 'month']\n",
      "IV selected data shape:  (15380, 39)\n"
     ]
    },
    {
     "name": "stderr",
     "output_type": "stream",
     "text": [
      "C:\\Users\\jzmuj\\Desktop\\uczelnia\\RR_2\\Reproducible-Research-uni-project\\rr_project\\data_wrangling.py:206: FutureWarning: The default of observed=False is deprecated and will be changed to True in a future version of pandas. Pass observed=False to retain current behavior or observed=True to adopt the future default and silence this warning.\n",
      "  d = d0.groupby(\"x\", as_index=False).agg({\"y\": [\"count\", \"sum\"]})\n",
      "C:\\Users\\jzmuj\\Desktop\\uczelnia\\RR_2\\Reproducible-Research-uni-project\\rr_project\\data_wrangling.py:206: FutureWarning: The default of observed=False is deprecated and will be changed to True in a future version of pandas. Pass observed=False to retain current behavior or observed=True to adopt the future default and silence this warning.\n",
      "  d = d0.groupby(\"x\", as_index=False).agg({\"y\": [\"count\", \"sum\"]})\n",
      "C:\\Users\\jzmuj\\Desktop\\uczelnia\\RR_2\\Reproducible-Research-uni-project\\rr_project\\data_wrangling.py:206: FutureWarning: The default of observed=False is deprecated and will be changed to True in a future version of pandas. Pass observed=False to retain current behavior or observed=True to adopt the future default and silence this warning.\n",
      "  d = d0.groupby(\"x\", as_index=False).agg({\"y\": [\"count\", \"sum\"]})\n",
      "C:\\Users\\jzmuj\\Desktop\\uczelnia\\RR_2\\Reproducible-Research-uni-project\\rr_project\\data_wrangling.py:206: FutureWarning: The default of observed=False is deprecated and will be changed to True in a future version of pandas. Pass observed=False to retain current behavior or observed=True to adopt the future default and silence this warning.\n",
      "  d = d0.groupby(\"x\", as_index=False).agg({\"y\": [\"count\", \"sum\"]})\n",
      "C:\\Users\\jzmuj\\Desktop\\uczelnia\\RR_2\\Reproducible-Research-uni-project\\rr_project\\data_wrangling.py:206: FutureWarning: The default of observed=False is deprecated and will be changed to True in a future version of pandas. Pass observed=False to retain current behavior or observed=True to adopt the future default and silence this warning.\n",
      "  d = d0.groupby(\"x\", as_index=False).agg({\"y\": [\"count\", \"sum\"]})\n"
     ]
    }
   ],
   "source": [
    "from rr_project.data_wrangling import iv_selection\n",
    "df_iv_selection = iv_selection(wrangled_df, \"target\")\n",
    "print(\"IV selected data shape: \", df_iv_selection.shape)"
   ],
   "metadata": {
    "collapsed": false,
    "ExecuteTime": {
     "end_time": "2024-05-23T17:13:14.784042Z",
     "start_time": "2024-05-23T17:13:14.302367Z"
    }
   },
   "id": "64961dc32a7e8d60",
   "execution_count": 7
  },
  {
   "cell_type": "markdown",
   "source": [
    "After those preprocessing steps, we have 39 columns left (vs. 27 in the study). Now, we will run corelation analysis"
   ],
   "metadata": {
    "collapsed": false
   },
   "id": "6aef21ebdf9d29a5"
  },
  {
   "cell_type": "markdown",
   "source": [
    "### TODO: Hubi -> The features with lower IV value for two features with the correlation coefficient greater than 0.6 were removed"
   ],
   "metadata": {
    "collapsed": false
   },
   "id": "9a5e134cdd2d9d29"
  }
 ],
 "metadata": {
  "kernelspec": {
   "display_name": "Python 3",
   "language": "python",
   "name": "python3"
  },
  "language_info": {
   "codemirror_mode": {
    "name": "ipython",
    "version": 2
   },
   "file_extension": ".py",
   "mimetype": "text/x-python",
   "name": "python",
   "nbconvert_exporter": "python",
   "pygments_lexer": "ipython2",
   "version": "2.7.6"
  }
 },
 "nbformat": 4,
 "nbformat_minor": 5
}

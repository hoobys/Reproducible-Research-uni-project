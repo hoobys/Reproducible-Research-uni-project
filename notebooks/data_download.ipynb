{
 "cells": [
  {
   "cell_type": "code",
   "execution_count": 2,
   "id": "initial_id",
   "metadata": {
    "collapsed": true,
    "ExecuteTime": {
     "end_time": "2024-03-21T16:35:07.634414Z",
     "start_time": "2024-03-21T16:34:46.890861Z"
    }
   },
   "outputs": [
    {
     "name": "stderr",
     "output_type": "stream",
     "text": [
      "C:\\Users\\jzmuj\\AppData\\Local\\Temp\\ipykernel_19576\\3601245598.py:2: DtypeWarning: Columns (0,19,49,59,118,129,130,131,134,135,136,139,145,146,147) have mixed types. Specify dtype option on import or set low_memory=False.\n",
      "  df = pd.read_csv('accepted_2007_to_2018q4.csv/accepted_2007_to_2018q4.csv')\n"
     ]
    }
   ],
   "source": [
    "# data comes from lenders club\n",
    "import pandas as pd\n",
    "df = pd.read_csv('accepted_2007_to_2018q4.csv/accepted_2007_to_2018q4.csv')"
   ]
  },
  {
   "cell_type": "code",
   "outputs": [],
   "source": [
    "import numpy as np\n",
    "df_tmp = df[np.isin(df['issue_d'], ['Jan-2018', 'Feb-2018', 'Mar-2018', 'Apr-2018', 'May-2018', 'Jun-2018', 'Jul-2018', 'Aug-2018', 'Sep-2018', 'Oct-2018', 'Nov-2018', 'Dec-2018'])]"
   ],
   "metadata": {
    "collapsed": false,
    "ExecuteTime": {
     "end_time": "2024-03-21T16:38:02.048150Z",
     "start_time": "2024-03-21T16:38:01.550846Z"
    }
   },
   "id": "73a6de7e966f623b",
   "execution_count": 11
  },
  {
   "cell_type": "code",
   "outputs": [],
   "source": [
    "df_tmp = df_tmp[df_tmp.purpose == 'credit_card']"
   ],
   "metadata": {
    "collapsed": false,
    "ExecuteTime": {
     "end_time": "2024-03-21T16:39:39.567245Z",
     "start_time": "2024-03-21T16:39:39.460201Z"
    }
   },
   "id": "7221b3a0366d26b2",
   "execution_count": 16
  },
  {
   "cell_type": "code",
   "outputs": [
    {
     "data": {
      "text/plain": "                id  member_id  loan_amnt  funded_amnt  funded_amnt_inv  \\\n421107   130960818        NaN     6000.0       6000.0           6000.0   \n421111   130939127        NaN    10000.0      10000.0          10000.0   \n421121   130962380        NaN    20300.0      20300.0          20300.0   \n421126   130808381        NaN    18000.0      18000.0          18000.0   \n421132   130960044        NaN     6300.0       6300.0           6300.0   \n...            ...        ...        ...          ...              ...   \n1611859  130250053        NaN    10000.0      10000.0          10000.0   \n1611866  130087499        NaN     9000.0       9000.0           9000.0   \n1611867  130273629        NaN    10000.0      10000.0          10000.0   \n1611869  130065583        NaN    15000.0      15000.0          15000.0   \n1611870  130289013        NaN    10000.0      10000.0          10000.0   \n\n               term  int_rate  installment grade sub_grade  ...  \\\n421107    36 months     10.41       194.77     B        B3  ...   \n421111    36 months      6.07       304.54     A        A2  ...   \n421121    60 months     17.47       509.66     D        D1  ...   \n421126    60 months     18.45       461.50     D        D2  ...   \n421132    36 months      9.43       201.61     B        B1  ...   \n...             ...       ...          ...   ...       ...  ...   \n1611859   36 months      7.96       313.18     A        A5  ...   \n1611866   36 months     11.98       298.85     B        B5  ...   \n1611867   36 months     14.07       342.12     C        C3  ...   \n1611869   60 months     16.01       364.86     C        C5  ...   \n1611870   60 months     17.47       251.06     D        D1  ...   \n\n        hardship_payoff_balance_amount hardship_last_payment_amount  \\\n421107                             NaN                          NaN   \n421111                             NaN                          NaN   \n421121                             NaN                          NaN   \n421126                             NaN                          NaN   \n421132                             NaN                          NaN   \n...                                ...                          ...   \n1611859                            NaN                          NaN   \n1611866                            NaN                          NaN   \n1611867                            NaN                          NaN   \n1611869                            NaN                          NaN   \n1611870                            NaN                          NaN   \n\n        disbursement_method  debt_settlement_flag debt_settlement_flag_date  \\\n421107                 Cash                     N                       NaN   \n421111                 Cash                     N                       NaN   \n421121                 Cash                     N                       NaN   \n421126                 Cash                     N                       NaN   \n421132                 Cash                     N                       NaN   \n...                     ...                   ...                       ...   \n1611859                Cash                     N                       NaN   \n1611866                Cash                     N                       NaN   \n1611867                Cash                     N                       NaN   \n1611869                Cash                     N                       NaN   \n1611870                Cash                     N                       NaN   \n\n        settlement_status settlement_date settlement_amount  \\\n421107                NaN             NaN               NaN   \n421111                NaN             NaN               NaN   \n421121                NaN             NaN               NaN   \n421126                NaN             NaN               NaN   \n421132                NaN             NaN               NaN   \n...                   ...             ...               ...   \n1611859               NaN             NaN               NaN   \n1611866               NaN             NaN               NaN   \n1611867               NaN             NaN               NaN   \n1611869               NaN             NaN               NaN   \n1611870               NaN             NaN               NaN   \n\n        settlement_percentage settlement_term  \n421107                    NaN             NaN  \n421111                    NaN             NaN  \n421121                    NaN             NaN  \n421126                    NaN             NaN  \n421132                    NaN             NaN  \n...                       ...             ...  \n1611859                   NaN             NaN  \n1611866                   NaN             NaN  \n1611867                   NaN             NaN  \n1611869                   NaN             NaN  \n1611870                   NaN             NaN  \n\n[127702 rows x 151 columns]",
      "text/html": "<div>\n<style scoped>\n    .dataframe tbody tr th:only-of-type {\n        vertical-align: middle;\n    }\n\n    .dataframe tbody tr th {\n        vertical-align: top;\n    }\n\n    .dataframe thead th {\n        text-align: right;\n    }\n</style>\n<table border=\"1\" class=\"dataframe\">\n  <thead>\n    <tr style=\"text-align: right;\">\n      <th></th>\n      <th>id</th>\n      <th>member_id</th>\n      <th>loan_amnt</th>\n      <th>funded_amnt</th>\n      <th>funded_amnt_inv</th>\n      <th>term</th>\n      <th>int_rate</th>\n      <th>installment</th>\n      <th>grade</th>\n      <th>sub_grade</th>\n      <th>...</th>\n      <th>hardship_payoff_balance_amount</th>\n      <th>hardship_last_payment_amount</th>\n      <th>disbursement_method</th>\n      <th>debt_settlement_flag</th>\n      <th>debt_settlement_flag_date</th>\n      <th>settlement_status</th>\n      <th>settlement_date</th>\n      <th>settlement_amount</th>\n      <th>settlement_percentage</th>\n      <th>settlement_term</th>\n    </tr>\n  </thead>\n  <tbody>\n    <tr>\n      <th>421107</th>\n      <td>130960818</td>\n      <td>NaN</td>\n      <td>6000.0</td>\n      <td>6000.0</td>\n      <td>6000.0</td>\n      <td>36 months</td>\n      <td>10.41</td>\n      <td>194.77</td>\n      <td>B</td>\n      <td>B3</td>\n      <td>...</td>\n      <td>NaN</td>\n      <td>NaN</td>\n      <td>Cash</td>\n      <td>N</td>\n      <td>NaN</td>\n      <td>NaN</td>\n      <td>NaN</td>\n      <td>NaN</td>\n      <td>NaN</td>\n      <td>NaN</td>\n    </tr>\n    <tr>\n      <th>421111</th>\n      <td>130939127</td>\n      <td>NaN</td>\n      <td>10000.0</td>\n      <td>10000.0</td>\n      <td>10000.0</td>\n      <td>36 months</td>\n      <td>6.07</td>\n      <td>304.54</td>\n      <td>A</td>\n      <td>A2</td>\n      <td>...</td>\n      <td>NaN</td>\n      <td>NaN</td>\n      <td>Cash</td>\n      <td>N</td>\n      <td>NaN</td>\n      <td>NaN</td>\n      <td>NaN</td>\n      <td>NaN</td>\n      <td>NaN</td>\n      <td>NaN</td>\n    </tr>\n    <tr>\n      <th>421121</th>\n      <td>130962380</td>\n      <td>NaN</td>\n      <td>20300.0</td>\n      <td>20300.0</td>\n      <td>20300.0</td>\n      <td>60 months</td>\n      <td>17.47</td>\n      <td>509.66</td>\n      <td>D</td>\n      <td>D1</td>\n      <td>...</td>\n      <td>NaN</td>\n      <td>NaN</td>\n      <td>Cash</td>\n      <td>N</td>\n      <td>NaN</td>\n      <td>NaN</td>\n      <td>NaN</td>\n      <td>NaN</td>\n      <td>NaN</td>\n      <td>NaN</td>\n    </tr>\n    <tr>\n      <th>421126</th>\n      <td>130808381</td>\n      <td>NaN</td>\n      <td>18000.0</td>\n      <td>18000.0</td>\n      <td>18000.0</td>\n      <td>60 months</td>\n      <td>18.45</td>\n      <td>461.50</td>\n      <td>D</td>\n      <td>D2</td>\n      <td>...</td>\n      <td>NaN</td>\n      <td>NaN</td>\n      <td>Cash</td>\n      <td>N</td>\n      <td>NaN</td>\n      <td>NaN</td>\n      <td>NaN</td>\n      <td>NaN</td>\n      <td>NaN</td>\n      <td>NaN</td>\n    </tr>\n    <tr>\n      <th>421132</th>\n      <td>130960044</td>\n      <td>NaN</td>\n      <td>6300.0</td>\n      <td>6300.0</td>\n      <td>6300.0</td>\n      <td>36 months</td>\n      <td>9.43</td>\n      <td>201.61</td>\n      <td>B</td>\n      <td>B1</td>\n      <td>...</td>\n      <td>NaN</td>\n      <td>NaN</td>\n      <td>Cash</td>\n      <td>N</td>\n      <td>NaN</td>\n      <td>NaN</td>\n      <td>NaN</td>\n      <td>NaN</td>\n      <td>NaN</td>\n      <td>NaN</td>\n    </tr>\n    <tr>\n      <th>...</th>\n      <td>...</td>\n      <td>...</td>\n      <td>...</td>\n      <td>...</td>\n      <td>...</td>\n      <td>...</td>\n      <td>...</td>\n      <td>...</td>\n      <td>...</td>\n      <td>...</td>\n      <td>...</td>\n      <td>...</td>\n      <td>...</td>\n      <td>...</td>\n      <td>...</td>\n      <td>...</td>\n      <td>...</td>\n      <td>...</td>\n      <td>...</td>\n      <td>...</td>\n      <td>...</td>\n    </tr>\n    <tr>\n      <th>1611859</th>\n      <td>130250053</td>\n      <td>NaN</td>\n      <td>10000.0</td>\n      <td>10000.0</td>\n      <td>10000.0</td>\n      <td>36 months</td>\n      <td>7.96</td>\n      <td>313.18</td>\n      <td>A</td>\n      <td>A5</td>\n      <td>...</td>\n      <td>NaN</td>\n      <td>NaN</td>\n      <td>Cash</td>\n      <td>N</td>\n      <td>NaN</td>\n      <td>NaN</td>\n      <td>NaN</td>\n      <td>NaN</td>\n      <td>NaN</td>\n      <td>NaN</td>\n    </tr>\n    <tr>\n      <th>1611866</th>\n      <td>130087499</td>\n      <td>NaN</td>\n      <td>9000.0</td>\n      <td>9000.0</td>\n      <td>9000.0</td>\n      <td>36 months</td>\n      <td>11.98</td>\n      <td>298.85</td>\n      <td>B</td>\n      <td>B5</td>\n      <td>...</td>\n      <td>NaN</td>\n      <td>NaN</td>\n      <td>Cash</td>\n      <td>N</td>\n      <td>NaN</td>\n      <td>NaN</td>\n      <td>NaN</td>\n      <td>NaN</td>\n      <td>NaN</td>\n      <td>NaN</td>\n    </tr>\n    <tr>\n      <th>1611867</th>\n      <td>130273629</td>\n      <td>NaN</td>\n      <td>10000.0</td>\n      <td>10000.0</td>\n      <td>10000.0</td>\n      <td>36 months</td>\n      <td>14.07</td>\n      <td>342.12</td>\n      <td>C</td>\n      <td>C3</td>\n      <td>...</td>\n      <td>NaN</td>\n      <td>NaN</td>\n      <td>Cash</td>\n      <td>N</td>\n      <td>NaN</td>\n      <td>NaN</td>\n      <td>NaN</td>\n      <td>NaN</td>\n      <td>NaN</td>\n      <td>NaN</td>\n    </tr>\n    <tr>\n      <th>1611869</th>\n      <td>130065583</td>\n      <td>NaN</td>\n      <td>15000.0</td>\n      <td>15000.0</td>\n      <td>15000.0</td>\n      <td>60 months</td>\n      <td>16.01</td>\n      <td>364.86</td>\n      <td>C</td>\n      <td>C5</td>\n      <td>...</td>\n      <td>NaN</td>\n      <td>NaN</td>\n      <td>Cash</td>\n      <td>N</td>\n      <td>NaN</td>\n      <td>NaN</td>\n      <td>NaN</td>\n      <td>NaN</td>\n      <td>NaN</td>\n      <td>NaN</td>\n    </tr>\n    <tr>\n      <th>1611870</th>\n      <td>130289013</td>\n      <td>NaN</td>\n      <td>10000.0</td>\n      <td>10000.0</td>\n      <td>10000.0</td>\n      <td>60 months</td>\n      <td>17.47</td>\n      <td>251.06</td>\n      <td>D</td>\n      <td>D1</td>\n      <td>...</td>\n      <td>NaN</td>\n      <td>NaN</td>\n      <td>Cash</td>\n      <td>N</td>\n      <td>NaN</td>\n      <td>NaN</td>\n      <td>NaN</td>\n      <td>NaN</td>\n      <td>NaN</td>\n      <td>NaN</td>\n    </tr>\n  </tbody>\n</table>\n<p>127702 rows × 151 columns</p>\n</div>"
     },
     "execution_count": 19,
     "metadata": {},
     "output_type": "execute_result"
    }
   ],
   "source": [
    "df_tmp"
   ],
   "metadata": {
    "collapsed": false,
    "ExecuteTime": {
     "end_time": "2024-03-21T16:40:25.671735Z",
     "start_time": "2024-03-21T16:40:25.606776Z"
    }
   },
   "id": "c00caa1126a07978",
   "execution_count": 19
  },
  {
   "cell_type": "code",
   "outputs": [],
   "source": [
    "df_tmp.to_csv('credit_card_2018.csv', index=False)"
   ],
   "metadata": {
    "collapsed": false,
    "ExecuteTime": {
     "end_time": "2024-03-21T16:40:01.048289Z",
     "start_time": "2024-03-21T16:39:55.806386Z"
    }
   },
   "id": "1865ab14099376ea",
   "execution_count": 18
  },
  {
   "cell_type": "code",
   "outputs": [],
   "source": [],
   "metadata": {
    "collapsed": false
   },
   "id": "628f3307cd1ffded"
  }
 ],
 "metadata": {
  "kernelspec": {
   "display_name": "Python 3",
   "language": "python",
   "name": "python3"
  },
  "language_info": {
   "codemirror_mode": {
    "name": "ipython",
    "version": 2
   },
   "file_extension": ".py",
   "mimetype": "text/x-python",
   "name": "python",
   "nbconvert_exporter": "python",
   "pygments_lexer": "ipython2",
   "version": "2.7.6"
  }
 },
 "nbformat": 4,
 "nbformat_minor": 5
}
